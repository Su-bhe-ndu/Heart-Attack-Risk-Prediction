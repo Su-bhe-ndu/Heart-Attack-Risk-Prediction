{
 "cells": [
  {
   "cell_type": "code",
   "execution_count": 1,
   "id": "89afacf8",
   "metadata": {
    "_cell_guid": "b1076dfc-b9ad-4769-8c92-a6c4dae69d19",
    "_uuid": "8f2839f25d086af736a60e9eeb907d3b93b6e0e5",
    "execution": {
     "iopub.execute_input": "2024-03-03T14:05:57.018123Z",
     "iopub.status.busy": "2024-03-03T14:05:57.017431Z",
     "iopub.status.idle": "2024-03-03T14:05:57.910688Z",
     "shell.execute_reply": "2024-03-03T14:05:57.909552Z"
    },
    "papermill": {
     "duration": 0.907659,
     "end_time": "2024-03-03T14:05:57.913853",
     "exception": false,
     "start_time": "2024-03-03T14:05:57.006194",
     "status": "completed"
    },
    "tags": []
   },
   "outputs": [
    {
     "name": "stdout",
     "output_type": "stream",
     "text": [
      "/kaggle/input/south-african-heart-disease-dataset/SAHeart.csv\n"
     ]
    }
   ],
   "source": [
    "# This Python 3 environment comes with many helpful analytics libraries installed\n",
    "# It is defined by the kaggle/python Docker image: https://github.com/kaggle/docker-python\n",
    "# For example, here's several helpful packages to load\n",
    "\n",
    "import numpy as np # linear algebra\n",
    "import pandas as pd # data processing, CSV file I/O (e.g. pd.read_csv)\n",
    "\n",
    "# Input data files are available in the read-only \"../input/\" directory\n",
    "# For example, running this (by clicking run or pressing Shift+Enter) will list all files under the input directory\n",
    "\n",
    "import os\n",
    "for dirname, _, filenames in os.walk('/kaggle/input'):\n",
    "    for filename in filenames:\n",
    "        print(os.path.join(dirname, filename))\n",
    "\n",
    "# You can write up to 20GB to the current directory (/kaggle/working/) that gets preserved as output when you create a version using \"Save & Run All\" \n",
    "# You can also write temporary files to /kaggle/temp/, but they won't be saved outside of the current session"
   ]
  },
  {
   "cell_type": "code",
   "execution_count": 2,
   "id": "0c966e3d",
   "metadata": {
    "execution": {
     "iopub.execute_input": "2024-03-03T14:05:57.933939Z",
     "iopub.status.busy": "2024-03-03T14:05:57.933426Z",
     "iopub.status.idle": "2024-03-03T14:05:57.984015Z",
     "shell.execute_reply": "2024-03-03T14:05:57.982936Z"
    },
    "papermill": {
     "duration": 0.063399,
     "end_time": "2024-03-03T14:05:57.986397",
     "exception": false,
     "start_time": "2024-03-03T14:05:57.922998",
     "status": "completed"
    },
    "tags": []
   },
   "outputs": [
    {
     "data": {
      "text/html": [
       "<div>\n",
       "<style scoped>\n",
       "    .dataframe tbody tr th:only-of-type {\n",
       "        vertical-align: middle;\n",
       "    }\n",
       "\n",
       "    .dataframe tbody tr th {\n",
       "        vertical-align: top;\n",
       "    }\n",
       "\n",
       "    .dataframe thead th {\n",
       "        text-align: right;\n",
       "    }\n",
       "</style>\n",
       "<table border=\"1\" class=\"dataframe\">\n",
       "  <thead>\n",
       "    <tr style=\"text-align: right;\">\n",
       "      <th></th>\n",
       "      <th>row.names</th>\n",
       "      <th>sbp</th>\n",
       "      <th>tobacco</th>\n",
       "      <th>ldl</th>\n",
       "      <th>adiposity</th>\n",
       "      <th>famhist</th>\n",
       "      <th>typea</th>\n",
       "      <th>obesity</th>\n",
       "      <th>alcohol</th>\n",
       "      <th>age</th>\n",
       "      <th>chd</th>\n",
       "    </tr>\n",
       "  </thead>\n",
       "  <tbody>\n",
       "    <tr>\n",
       "      <th>0</th>\n",
       "      <td>1</td>\n",
       "      <td>160</td>\n",
       "      <td>12.00</td>\n",
       "      <td>5.73</td>\n",
       "      <td>23.11</td>\n",
       "      <td>Present</td>\n",
       "      <td>49</td>\n",
       "      <td>25.30</td>\n",
       "      <td>97.20</td>\n",
       "      <td>52</td>\n",
       "      <td>1</td>\n",
       "    </tr>\n",
       "    <tr>\n",
       "      <th>1</th>\n",
       "      <td>2</td>\n",
       "      <td>144</td>\n",
       "      <td>0.01</td>\n",
       "      <td>4.41</td>\n",
       "      <td>28.61</td>\n",
       "      <td>Absent</td>\n",
       "      <td>55</td>\n",
       "      <td>28.87</td>\n",
       "      <td>2.06</td>\n",
       "      <td>63</td>\n",
       "      <td>1</td>\n",
       "    </tr>\n",
       "    <tr>\n",
       "      <th>2</th>\n",
       "      <td>3</td>\n",
       "      <td>118</td>\n",
       "      <td>0.08</td>\n",
       "      <td>3.48</td>\n",
       "      <td>32.28</td>\n",
       "      <td>Present</td>\n",
       "      <td>52</td>\n",
       "      <td>29.14</td>\n",
       "      <td>3.81</td>\n",
       "      <td>46</td>\n",
       "      <td>0</td>\n",
       "    </tr>\n",
       "    <tr>\n",
       "      <th>3</th>\n",
       "      <td>4</td>\n",
       "      <td>170</td>\n",
       "      <td>7.50</td>\n",
       "      <td>6.41</td>\n",
       "      <td>38.03</td>\n",
       "      <td>Present</td>\n",
       "      <td>51</td>\n",
       "      <td>31.99</td>\n",
       "      <td>24.26</td>\n",
       "      <td>58</td>\n",
       "      <td>1</td>\n",
       "    </tr>\n",
       "    <tr>\n",
       "      <th>4</th>\n",
       "      <td>5</td>\n",
       "      <td>134</td>\n",
       "      <td>13.60</td>\n",
       "      <td>3.50</td>\n",
       "      <td>27.78</td>\n",
       "      <td>Present</td>\n",
       "      <td>60</td>\n",
       "      <td>25.99</td>\n",
       "      <td>57.34</td>\n",
       "      <td>49</td>\n",
       "      <td>1</td>\n",
       "    </tr>\n",
       "    <tr>\n",
       "      <th>...</th>\n",
       "      <td>...</td>\n",
       "      <td>...</td>\n",
       "      <td>...</td>\n",
       "      <td>...</td>\n",
       "      <td>...</td>\n",
       "      <td>...</td>\n",
       "      <td>...</td>\n",
       "      <td>...</td>\n",
       "      <td>...</td>\n",
       "      <td>...</td>\n",
       "      <td>...</td>\n",
       "    </tr>\n",
       "    <tr>\n",
       "      <th>457</th>\n",
       "      <td>459</td>\n",
       "      <td>214</td>\n",
       "      <td>0.40</td>\n",
       "      <td>5.98</td>\n",
       "      <td>31.72</td>\n",
       "      <td>Absent</td>\n",
       "      <td>64</td>\n",
       "      <td>28.45</td>\n",
       "      <td>0.00</td>\n",
       "      <td>58</td>\n",
       "      <td>0</td>\n",
       "    </tr>\n",
       "    <tr>\n",
       "      <th>458</th>\n",
       "      <td>460</td>\n",
       "      <td>182</td>\n",
       "      <td>4.20</td>\n",
       "      <td>4.41</td>\n",
       "      <td>32.10</td>\n",
       "      <td>Absent</td>\n",
       "      <td>52</td>\n",
       "      <td>28.61</td>\n",
       "      <td>18.72</td>\n",
       "      <td>52</td>\n",
       "      <td>1</td>\n",
       "    </tr>\n",
       "    <tr>\n",
       "      <th>459</th>\n",
       "      <td>461</td>\n",
       "      <td>108</td>\n",
       "      <td>3.00</td>\n",
       "      <td>1.59</td>\n",
       "      <td>15.23</td>\n",
       "      <td>Absent</td>\n",
       "      <td>40</td>\n",
       "      <td>20.09</td>\n",
       "      <td>26.64</td>\n",
       "      <td>55</td>\n",
       "      <td>0</td>\n",
       "    </tr>\n",
       "    <tr>\n",
       "      <th>460</th>\n",
       "      <td>462</td>\n",
       "      <td>118</td>\n",
       "      <td>5.40</td>\n",
       "      <td>11.61</td>\n",
       "      <td>30.79</td>\n",
       "      <td>Absent</td>\n",
       "      <td>64</td>\n",
       "      <td>27.35</td>\n",
       "      <td>23.97</td>\n",
       "      <td>40</td>\n",
       "      <td>0</td>\n",
       "    </tr>\n",
       "    <tr>\n",
       "      <th>461</th>\n",
       "      <td>463</td>\n",
       "      <td>132</td>\n",
       "      <td>0.00</td>\n",
       "      <td>4.82</td>\n",
       "      <td>33.41</td>\n",
       "      <td>Present</td>\n",
       "      <td>62</td>\n",
       "      <td>14.70</td>\n",
       "      <td>0.00</td>\n",
       "      <td>46</td>\n",
       "      <td>1</td>\n",
       "    </tr>\n",
       "  </tbody>\n",
       "</table>\n",
       "<p>462 rows × 11 columns</p>\n",
       "</div>"
      ],
      "text/plain": [
       "     row.names  sbp  tobacco    ldl  adiposity  famhist  typea  obesity  \\\n",
       "0            1  160    12.00   5.73      23.11  Present     49    25.30   \n",
       "1            2  144     0.01   4.41      28.61   Absent     55    28.87   \n",
       "2            3  118     0.08   3.48      32.28  Present     52    29.14   \n",
       "3            4  170     7.50   6.41      38.03  Present     51    31.99   \n",
       "4            5  134    13.60   3.50      27.78  Present     60    25.99   \n",
       "..         ...  ...      ...    ...        ...      ...    ...      ...   \n",
       "457        459  214     0.40   5.98      31.72   Absent     64    28.45   \n",
       "458        460  182     4.20   4.41      32.10   Absent     52    28.61   \n",
       "459        461  108     3.00   1.59      15.23   Absent     40    20.09   \n",
       "460        462  118     5.40  11.61      30.79   Absent     64    27.35   \n",
       "461        463  132     0.00   4.82      33.41  Present     62    14.70   \n",
       "\n",
       "     alcohol  age  chd  \n",
       "0      97.20   52    1  \n",
       "1       2.06   63    1  \n",
       "2       3.81   46    0  \n",
       "3      24.26   58    1  \n",
       "4      57.34   49    1  \n",
       "..       ...  ...  ...  \n",
       "457     0.00   58    0  \n",
       "458    18.72   52    1  \n",
       "459    26.64   55    0  \n",
       "460    23.97   40    0  \n",
       "461     0.00   46    1  \n",
       "\n",
       "[462 rows x 11 columns]"
      ]
     },
     "execution_count": 2,
     "metadata": {},
     "output_type": "execute_result"
    }
   ],
   "source": [
    "data=pd.read_csv('/kaggle/input/south-african-heart-disease-dataset/SAHeart.csv')\n",
    "data"
   ]
  },
  {
   "cell_type": "code",
   "execution_count": 3,
   "id": "114a14c6",
   "metadata": {
    "execution": {
     "iopub.execute_input": "2024-03-03T14:05:58.008107Z",
     "iopub.status.busy": "2024-03-03T14:05:58.007728Z",
     "iopub.status.idle": "2024-03-03T14:05:58.031572Z",
     "shell.execute_reply": "2024-03-03T14:05:58.030798Z"
    },
    "papermill": {
     "duration": 0.037515,
     "end_time": "2024-03-03T14:05:58.033995",
     "exception": false,
     "start_time": "2024-03-03T14:05:57.996480",
     "status": "completed"
    },
    "tags": []
   },
   "outputs": [
    {
     "name": "stdout",
     "output_type": "stream",
     "text": [
      "<class 'pandas.core.frame.DataFrame'>\n",
      "RangeIndex: 462 entries, 0 to 461\n",
      "Data columns (total 11 columns):\n",
      " #   Column     Non-Null Count  Dtype  \n",
      "---  ------     --------------  -----  \n",
      " 0   row.names  462 non-null    int64  \n",
      " 1   sbp        462 non-null    int64  \n",
      " 2   tobacco    462 non-null    float64\n",
      " 3   ldl        462 non-null    float64\n",
      " 4   adiposity  462 non-null    float64\n",
      " 5   famhist    462 non-null    object \n",
      " 6   typea      462 non-null    int64  \n",
      " 7   obesity    462 non-null    float64\n",
      " 8   alcohol    462 non-null    float64\n",
      " 9   age        462 non-null    int64  \n",
      " 10  chd        462 non-null    int64  \n",
      "dtypes: float64(5), int64(5), object(1)\n",
      "memory usage: 39.8+ KB\n"
     ]
    }
   ],
   "source": [
    "data.info()"
   ]
  },
  {
   "cell_type": "code",
   "execution_count": 4,
   "id": "40bc1156",
   "metadata": {
    "execution": {
     "iopub.execute_input": "2024-03-03T14:05:58.054857Z",
     "iopub.status.busy": "2024-03-03T14:05:58.054457Z",
     "iopub.status.idle": "2024-03-03T14:05:58.064494Z",
     "shell.execute_reply": "2024-03-03T14:05:58.063336Z"
    },
    "papermill": {
     "duration": 0.023172,
     "end_time": "2024-03-03T14:05:58.066760",
     "exception": false,
     "start_time": "2024-03-03T14:05:58.043588",
     "status": "completed"
    },
    "tags": []
   },
   "outputs": [
    {
     "data": {
      "text/plain": [
       "False"
      ]
     },
     "execution_count": 4,
     "metadata": {},
     "output_type": "execute_result"
    }
   ],
   "source": [
    "data.duplicated().any()"
   ]
  },
  {
   "cell_type": "code",
   "execution_count": 5,
   "id": "e68c5303",
   "metadata": {
    "execution": {
     "iopub.execute_input": "2024-03-03T14:05:58.088288Z",
     "iopub.status.busy": "2024-03-03T14:05:58.087477Z",
     "iopub.status.idle": "2024-03-03T14:05:58.127910Z",
     "shell.execute_reply": "2024-03-03T14:05:58.126859Z"
    },
    "papermill": {
     "duration": 0.054193,
     "end_time": "2024-03-03T14:05:58.130601",
     "exception": false,
     "start_time": "2024-03-03T14:05:58.076408",
     "status": "completed"
    },
    "tags": []
   },
   "outputs": [
    {
     "data": {
      "text/html": [
       "<div>\n",
       "<style scoped>\n",
       "    .dataframe tbody tr th:only-of-type {\n",
       "        vertical-align: middle;\n",
       "    }\n",
       "\n",
       "    .dataframe tbody tr th {\n",
       "        vertical-align: top;\n",
       "    }\n",
       "\n",
       "    .dataframe thead th {\n",
       "        text-align: right;\n",
       "    }\n",
       "</style>\n",
       "<table border=\"1\" class=\"dataframe\">\n",
       "  <thead>\n",
       "    <tr style=\"text-align: right;\">\n",
       "      <th></th>\n",
       "      <th>row.names</th>\n",
       "      <th>sbp</th>\n",
       "      <th>tobacco</th>\n",
       "      <th>ldl</th>\n",
       "      <th>adiposity</th>\n",
       "      <th>typea</th>\n",
       "      <th>obesity</th>\n",
       "      <th>alcohol</th>\n",
       "      <th>age</th>\n",
       "      <th>chd</th>\n",
       "    </tr>\n",
       "  </thead>\n",
       "  <tbody>\n",
       "    <tr>\n",
       "      <th>count</th>\n",
       "      <td>462.000000</td>\n",
       "      <td>462.000000</td>\n",
       "      <td>462.000000</td>\n",
       "      <td>462.000000</td>\n",
       "      <td>462.000000</td>\n",
       "      <td>462.000000</td>\n",
       "      <td>462.000000</td>\n",
       "      <td>462.000000</td>\n",
       "      <td>462.000000</td>\n",
       "      <td>462.000000</td>\n",
       "    </tr>\n",
       "    <tr>\n",
       "      <th>mean</th>\n",
       "      <td>231.935065</td>\n",
       "      <td>138.326840</td>\n",
       "      <td>3.635649</td>\n",
       "      <td>4.740325</td>\n",
       "      <td>25.406732</td>\n",
       "      <td>53.103896</td>\n",
       "      <td>26.044113</td>\n",
       "      <td>17.044394</td>\n",
       "      <td>42.816017</td>\n",
       "      <td>0.346320</td>\n",
       "    </tr>\n",
       "    <tr>\n",
       "      <th>std</th>\n",
       "      <td>133.938585</td>\n",
       "      <td>20.496317</td>\n",
       "      <td>4.593024</td>\n",
       "      <td>2.070909</td>\n",
       "      <td>7.780699</td>\n",
       "      <td>9.817534</td>\n",
       "      <td>4.213680</td>\n",
       "      <td>24.481059</td>\n",
       "      <td>14.608956</td>\n",
       "      <td>0.476313</td>\n",
       "    </tr>\n",
       "    <tr>\n",
       "      <th>min</th>\n",
       "      <td>1.000000</td>\n",
       "      <td>101.000000</td>\n",
       "      <td>0.000000</td>\n",
       "      <td>0.980000</td>\n",
       "      <td>6.740000</td>\n",
       "      <td>13.000000</td>\n",
       "      <td>14.700000</td>\n",
       "      <td>0.000000</td>\n",
       "      <td>15.000000</td>\n",
       "      <td>0.000000</td>\n",
       "    </tr>\n",
       "    <tr>\n",
       "      <th>25%</th>\n",
       "      <td>116.250000</td>\n",
       "      <td>124.000000</td>\n",
       "      <td>0.052500</td>\n",
       "      <td>3.282500</td>\n",
       "      <td>19.775000</td>\n",
       "      <td>47.000000</td>\n",
       "      <td>22.985000</td>\n",
       "      <td>0.510000</td>\n",
       "      <td>31.000000</td>\n",
       "      <td>0.000000</td>\n",
       "    </tr>\n",
       "    <tr>\n",
       "      <th>50%</th>\n",
       "      <td>231.500000</td>\n",
       "      <td>134.000000</td>\n",
       "      <td>2.000000</td>\n",
       "      <td>4.340000</td>\n",
       "      <td>26.115000</td>\n",
       "      <td>53.000000</td>\n",
       "      <td>25.805000</td>\n",
       "      <td>7.510000</td>\n",
       "      <td>45.000000</td>\n",
       "      <td>0.000000</td>\n",
       "    </tr>\n",
       "    <tr>\n",
       "      <th>75%</th>\n",
       "      <td>347.750000</td>\n",
       "      <td>148.000000</td>\n",
       "      <td>5.500000</td>\n",
       "      <td>5.790000</td>\n",
       "      <td>31.227500</td>\n",
       "      <td>60.000000</td>\n",
       "      <td>28.497500</td>\n",
       "      <td>23.892500</td>\n",
       "      <td>55.000000</td>\n",
       "      <td>1.000000</td>\n",
       "    </tr>\n",
       "    <tr>\n",
       "      <th>max</th>\n",
       "      <td>463.000000</td>\n",
       "      <td>218.000000</td>\n",
       "      <td>31.200000</td>\n",
       "      <td>15.330000</td>\n",
       "      <td>42.490000</td>\n",
       "      <td>78.000000</td>\n",
       "      <td>46.580000</td>\n",
       "      <td>147.190000</td>\n",
       "      <td>64.000000</td>\n",
       "      <td>1.000000</td>\n",
       "    </tr>\n",
       "  </tbody>\n",
       "</table>\n",
       "</div>"
      ],
      "text/plain": [
       "        row.names         sbp     tobacco         ldl   adiposity       typea  \\\n",
       "count  462.000000  462.000000  462.000000  462.000000  462.000000  462.000000   \n",
       "mean   231.935065  138.326840    3.635649    4.740325   25.406732   53.103896   \n",
       "std    133.938585   20.496317    4.593024    2.070909    7.780699    9.817534   \n",
       "min      1.000000  101.000000    0.000000    0.980000    6.740000   13.000000   \n",
       "25%    116.250000  124.000000    0.052500    3.282500   19.775000   47.000000   \n",
       "50%    231.500000  134.000000    2.000000    4.340000   26.115000   53.000000   \n",
       "75%    347.750000  148.000000    5.500000    5.790000   31.227500   60.000000   \n",
       "max    463.000000  218.000000   31.200000   15.330000   42.490000   78.000000   \n",
       "\n",
       "          obesity     alcohol         age         chd  \n",
       "count  462.000000  462.000000  462.000000  462.000000  \n",
       "mean    26.044113   17.044394   42.816017    0.346320  \n",
       "std      4.213680   24.481059   14.608956    0.476313  \n",
       "min     14.700000    0.000000   15.000000    0.000000  \n",
       "25%     22.985000    0.510000   31.000000    0.000000  \n",
       "50%     25.805000    7.510000   45.000000    0.000000  \n",
       "75%     28.497500   23.892500   55.000000    1.000000  \n",
       "max     46.580000  147.190000   64.000000    1.000000  "
      ]
     },
     "execution_count": 5,
     "metadata": {},
     "output_type": "execute_result"
    }
   ],
   "source": [
    "data.describe()"
   ]
  },
  {
   "cell_type": "code",
   "execution_count": 6,
   "id": "8fedd81e",
   "metadata": {
    "execution": {
     "iopub.execute_input": "2024-03-03T14:05:58.152514Z",
     "iopub.status.busy": "2024-03-03T14:05:58.152152Z",
     "iopub.status.idle": "2024-03-03T14:05:58.164861Z",
     "shell.execute_reply": "2024-03-03T14:05:58.163760Z"
    },
    "papermill": {
     "duration": 0.026799,
     "end_time": "2024-03-03T14:05:58.167552",
     "exception": false,
     "start_time": "2024-03-03T14:05:58.140753",
     "status": "completed"
    },
    "tags": []
   },
   "outputs": [
    {
     "data": {
      "text/html": [
       "<div>\n",
       "<style scoped>\n",
       "    .dataframe tbody tr th:only-of-type {\n",
       "        vertical-align: middle;\n",
       "    }\n",
       "\n",
       "    .dataframe tbody tr th {\n",
       "        vertical-align: top;\n",
       "    }\n",
       "\n",
       "    .dataframe thead th {\n",
       "        text-align: right;\n",
       "    }\n",
       "</style>\n",
       "<table border=\"1\" class=\"dataframe\">\n",
       "  <thead>\n",
       "    <tr style=\"text-align: right;\">\n",
       "      <th></th>\n",
       "      <th>famhist</th>\n",
       "    </tr>\n",
       "  </thead>\n",
       "  <tbody>\n",
       "    <tr>\n",
       "      <th>count</th>\n",
       "      <td>462</td>\n",
       "    </tr>\n",
       "    <tr>\n",
       "      <th>unique</th>\n",
       "      <td>2</td>\n",
       "    </tr>\n",
       "    <tr>\n",
       "      <th>top</th>\n",
       "      <td>Absent</td>\n",
       "    </tr>\n",
       "    <tr>\n",
       "      <th>freq</th>\n",
       "      <td>270</td>\n",
       "    </tr>\n",
       "  </tbody>\n",
       "</table>\n",
       "</div>"
      ],
      "text/plain": [
       "       famhist\n",
       "count      462\n",
       "unique       2\n",
       "top     Absent\n",
       "freq       270"
      ]
     },
     "execution_count": 6,
     "metadata": {},
     "output_type": "execute_result"
    }
   ],
   "source": [
    "data.select_dtypes('object').describe()"
   ]
  },
  {
   "cell_type": "code",
   "execution_count": 7,
   "id": "d8be9d1f",
   "metadata": {
    "execution": {
     "iopub.execute_input": "2024-03-03T14:05:58.190085Z",
     "iopub.status.busy": "2024-03-03T14:05:58.189685Z",
     "iopub.status.idle": "2024-03-03T14:06:01.906597Z",
     "shell.execute_reply": "2024-03-03T14:06:01.905742Z"
    },
    "papermill": {
     "duration": 3.732133,
     "end_time": "2024-03-03T14:06:01.910055",
     "exception": false,
     "start_time": "2024-03-03T14:05:58.177922",
     "status": "completed"
    },
    "tags": []
   },
   "outputs": [
    {
     "data": {
      "text/plain": [
       "array([[<Axes: title={'center': 'row.names'}>,\n",
       "        <Axes: title={'center': 'sbp'}>,\n",
       "        <Axes: title={'center': 'tobacco'}>],\n",
       "       [<Axes: title={'center': 'ldl'}>,\n",
       "        <Axes: title={'center': 'adiposity'}>,\n",
       "        <Axes: title={'center': 'typea'}>],\n",
       "       [<Axes: title={'center': 'obesity'}>,\n",
       "        <Axes: title={'center': 'alcohol'}>,\n",
       "        <Axes: title={'center': 'age'}>],\n",
       "       [<Axes: title={'center': 'chd'}>, <Axes: >, <Axes: >]],\n",
       "      dtype=object)"
      ]
     },
     "execution_count": 7,
     "metadata": {},
     "output_type": "execute_result"
    },
    {
     "data": {
      "image/png": "[encoded data removed]",
      "text/plain": [
       "<Figure size 2000x1600 with 12 Axes>"
      ]
     },
     "metadata": {},
     "output_type": "display_data"
    }
   ],
   "source": [
    "data.hist(bins=60,figsize=(20,16))"
   ]
  },
  {
   "cell_type": "code",
   "execution_count": 8,
   "id": "ac54bbdc",
   "metadata": {
    "execution": {
     "iopub.execute_input": "2024-03-03T14:06:01.937456Z",
     "iopub.status.busy": "2024-03-03T14:06:01.936731Z",
     "iopub.status.idle": "2024-03-03T14:06:01.960075Z",
     "shell.execute_reply": "2024-03-03T14:06:01.958947Z"
    },
    "papermill": {
     "duration": 0.040897,
     "end_time": "2024-03-03T14:06:01.963287",
     "exception": false,
     "start_time": "2024-03-03T14:06:01.922390",
     "status": "completed"
    },
    "tags": []
   },
   "outputs": [
    {
     "data": {
      "text/html": [
       "<div>\n",
       "<style scoped>\n",
       "    .dataframe tbody tr th:only-of-type {\n",
       "        vertical-align: middle;\n",
       "    }\n",
       "\n",
       "    .dataframe tbody tr th {\n",
       "        vertical-align: top;\n",
       "    }\n",
       "\n",
       "    .dataframe thead th {\n",
       "        text-align: right;\n",
       "    }\n",
       "</style>\n",
       "<table border=\"1\" class=\"dataframe\">\n",
       "  <thead>\n",
       "    <tr style=\"text-align: right;\">\n",
       "      <th></th>\n",
       "      <th>sbp</th>\n",
       "      <th>tobacco</th>\n",
       "      <th>ldl</th>\n",
       "      <th>adiposity</th>\n",
       "      <th>famhist</th>\n",
       "      <th>typea</th>\n",
       "      <th>obesity</th>\n",
       "      <th>alcohol</th>\n",
       "      <th>age</th>\n",
       "      <th>chd</th>\n",
       "    </tr>\n",
       "  </thead>\n",
       "  <tbody>\n",
       "    <tr>\n",
       "      <th>0</th>\n",
       "      <td>160</td>\n",
       "      <td>12.00</td>\n",
       "      <td>5.73</td>\n",
       "      <td>23.11</td>\n",
       "      <td>Present</td>\n",
       "      <td>49</td>\n",
       "      <td>25.30</td>\n",
       "      <td>97.20</td>\n",
       "      <td>52</td>\n",
       "      <td>1</td>\n",
       "    </tr>\n",
       "    <tr>\n",
       "      <th>1</th>\n",
       "      <td>144</td>\n",
       "      <td>0.01</td>\n",
       "      <td>4.41</td>\n",
       "      <td>28.61</td>\n",
       "      <td>Absent</td>\n",
       "      <td>55</td>\n",
       "      <td>28.87</td>\n",
       "      <td>2.06</td>\n",
       "      <td>63</td>\n",
       "      <td>1</td>\n",
       "    </tr>\n",
       "    <tr>\n",
       "      <th>2</th>\n",
       "      <td>118</td>\n",
       "      <td>0.08</td>\n",
       "      <td>3.48</td>\n",
       "      <td>32.28</td>\n",
       "      <td>Present</td>\n",
       "      <td>52</td>\n",
       "      <td>29.14</td>\n",
       "      <td>3.81</td>\n",
       "      <td>46</td>\n",
       "      <td>0</td>\n",
       "    </tr>\n",
       "    <tr>\n",
       "      <th>3</th>\n",
       "      <td>170</td>\n",
       "      <td>7.50</td>\n",
       "      <td>6.41</td>\n",
       "      <td>38.03</td>\n",
       "      <td>Present</td>\n",
       "      <td>51</td>\n",
       "      <td>31.99</td>\n",
       "      <td>24.26</td>\n",
       "      <td>58</td>\n",
       "      <td>1</td>\n",
       "    </tr>\n",
       "    <tr>\n",
       "      <th>4</th>\n",
       "      <td>134</td>\n",
       "      <td>13.60</td>\n",
       "      <td>3.50</td>\n",
       "      <td>27.78</td>\n",
       "      <td>Present</td>\n",
       "      <td>60</td>\n",
       "      <td>25.99</td>\n",
       "      <td>57.34</td>\n",
       "      <td>49</td>\n",
       "      <td>1</td>\n",
       "    </tr>\n",
       "    <tr>\n",
       "      <th>...</th>\n",
       "      <td>...</td>\n",
       "      <td>...</td>\n",
       "      <td>...</td>\n",
       "      <td>...</td>\n",
       "      <td>...</td>\n",
       "      <td>...</td>\n",
       "      <td>...</td>\n",
       "      <td>...</td>\n",
       "      <td>...</td>\n",
       "      <td>...</td>\n",
       "    </tr>\n",
       "    <tr>\n",
       "      <th>457</th>\n",
       "      <td>214</td>\n",
       "      <td>0.40</td>\n",
       "      <td>5.98</td>\n",
       "      <td>31.72</td>\n",
       "      <td>Absent</td>\n",
       "      <td>64</td>\n",
       "      <td>28.45</td>\n",
       "      <td>0.00</td>\n",
       "      <td>58</td>\n",
       "      <td>0</td>\n",
       "    </tr>\n",
       "    <tr>\n",
       "      <th>458</th>\n",
       "      <td>182</td>\n",
       "      <td>4.20</td>\n",
       "      <td>4.41</td>\n",
       "      <td>32.10</td>\n",
       "      <td>Absent</td>\n",
       "      <td>52</td>\n",
       "      <td>28.61</td>\n",
       "      <td>18.72</td>\n",
       "      <td>52</td>\n",
       "      <td>1</td>\n",
       "    </tr>\n",
       "    <tr>\n",
       "      <th>459</th>\n",
       "      <td>108</td>\n",
       "      <td>3.00</td>\n",
       "      <td>1.59</td>\n",
       "      <td>15.23</td>\n",
       "      <td>Absent</td>\n",
       "      <td>40</td>\n",
       "      <td>20.09</td>\n",
       "      <td>26.64</td>\n",
       "      <td>55</td>\n",
       "      <td>0</td>\n",
       "    </tr>\n",
       "    <tr>\n",
       "      <th>460</th>\n",
       "      <td>118</td>\n",
       "      <td>5.40</td>\n",
       "      <td>11.61</td>\n",
       "      <td>30.79</td>\n",
       "      <td>Absent</td>\n",
       "      <td>64</td>\n",
       "      <td>27.35</td>\n",
       "      <td>23.97</td>\n",
       "      <td>40</td>\n",
       "      <td>0</td>\n",
       "    </tr>\n",
       "    <tr>\n",
       "      <th>461</th>\n",
       "      <td>132</td>\n",
       "      <td>0.00</td>\n",
       "      <td>4.82</td>\n",
       "      <td>33.41</td>\n",
       "      <td>Present</td>\n",
       "      <td>62</td>\n",
       "      <td>14.70</td>\n",
       "      <td>0.00</td>\n",
       "      <td>46</td>\n",
       "      <td>1</td>\n",
       "    </tr>\n",
       "  </tbody>\n",
       "</table>\n",
       "<p>462 rows × 10 columns</p>\n",
       "</div>"
      ],
      "text/plain": [
       "     sbp  tobacco    ldl  adiposity  famhist  typea  obesity  alcohol  age  \\\n",
       "0    160    12.00   5.73      23.11  Present     49    25.30    97.20   52   \n",
       "1    144     0.01   4.41      28.61   Absent     55    28.87     2.06   63   \n",
       "2    118     0.08   3.48      32.28  Present     52    29.14     3.81   46   \n",
       "3    170     7.50   6.41      38.03  Present     51    31.99    24.26   58   \n",
       "4    134    13.60   3.50      27.78  Present     60    25.99    57.34   49   \n",
       "..   ...      ...    ...        ...      ...    ...      ...      ...  ...   \n",
       "457  214     0.40   5.98      31.72   Absent     64    28.45     0.00   58   \n",
       "458  182     4.20   4.41      32.10   Absent     52    28.61    18.72   52   \n",
       "459  108     3.00   1.59      15.23   Absent     40    20.09    26.64   55   \n",
       "460  118     5.40  11.61      30.79   Absent     64    27.35    23.97   40   \n",
       "461  132     0.00   4.82      33.41  Present     62    14.70     0.00   46   \n",
       "\n",
       "     chd  \n",
       "0      1  \n",
       "1      1  \n",
       "2      0  \n",
       "3      1  \n",
       "4      1  \n",
       "..   ...  \n",
       "457    0  \n",
       "458    1  \n",
       "459    0  \n",
       "460    0  \n",
       "461    1  \n",
       "\n",
       "[462 rows x 10 columns]"
      ]
     },
     "execution_count": 8,
     "metadata": {},
     "output_type": "execute_result"
    }
   ],
   "source": [
    "data.drop(columns='row.names',inplace=True)\n",
    "data"
   ]
  },
  {
   "cell_type": "code",
   "execution_count": 9,
   "id": "ca3b2302",
   "metadata": {
    "execution": {
     "iopub.execute_input": "2024-03-03T14:06:01.990933Z",
     "iopub.status.busy": "2024-03-03T14:06:01.990198Z",
     "iopub.status.idle": "2024-03-03T14:06:01.995778Z",
     "shell.execute_reply": "2024-03-03T14:06:01.994984Z"
    },
    "papermill": {
     "duration": 0.021882,
     "end_time": "2024-03-03T14:06:01.998001",
     "exception": false,
     "start_time": "2024-03-03T14:06:01.976119",
     "status": "completed"
    },
    "tags": []
   },
   "outputs": [],
   "source": [
    "data['famhist'] = data['famhist'].map({'Present': 1,'Absent': 0})"
   ]
  },
  {
   "cell_type": "code",
   "execution_count": 10,
   "id": "a95245c4",
   "metadata": {
    "execution": {
     "iopub.execute_input": "2024-03-03T14:06:02.026400Z",
     "iopub.status.busy": "2024-03-03T14:06:02.025588Z",
     "iopub.status.idle": "2024-03-03T14:06:02.045274Z",
     "shell.execute_reply": "2024-03-03T14:06:02.044457Z"
    },
    "papermill": {
     "duration": 0.036951,
     "end_time": "2024-03-03T14:06:02.047746",
     "exception": false,
     "start_time": "2024-03-03T14:06:02.010795",
     "status": "completed"
    },
    "tags": []
   },
   "outputs": [
    {
     "data": {
      "text/html": [
       "<div>\n",
       "<style scoped>\n",
       "    .dataframe tbody tr th:only-of-type {\n",
       "        vertical-align: middle;\n",
       "    }\n",
       "\n",
       "    .dataframe tbody tr th {\n",
       "        vertical-align: top;\n",
       "    }\n",
       "\n",
       "    .dataframe thead th {\n",
       "        text-align: right;\n",
       "    }\n",
       "</style>\n",
       "<table border=\"1\" class=\"dataframe\">\n",
       "  <thead>\n",
       "    <tr style=\"text-align: right;\">\n",
       "      <th></th>\n",
       "      <th>sbp</th>\n",
       "      <th>tobacco</th>\n",
       "      <th>ldl</th>\n",
       "      <th>adiposity</th>\n",
       "      <th>famhist</th>\n",
       "      <th>typea</th>\n",
       "      <th>obesity</th>\n",
       "      <th>alcohol</th>\n",
       "      <th>age</th>\n",
       "      <th>chd</th>\n",
       "    </tr>\n",
       "  </thead>\n",
       "  <tbody>\n",
       "    <tr>\n",
       "      <th>0</th>\n",
       "      <td>160</td>\n",
       "      <td>12.00</td>\n",
       "      <td>5.73</td>\n",
       "      <td>23.11</td>\n",
       "      <td>1</td>\n",
       "      <td>49</td>\n",
       "      <td>25.30</td>\n",
       "      <td>97.20</td>\n",
       "      <td>52</td>\n",
       "      <td>1</td>\n",
       "    </tr>\n",
       "    <tr>\n",
       "      <th>1</th>\n",
       "      <td>144</td>\n",
       "      <td>0.01</td>\n",
       "      <td>4.41</td>\n",
       "      <td>28.61</td>\n",
       "      <td>0</td>\n",
       "      <td>55</td>\n",
       "      <td>28.87</td>\n",
       "      <td>2.06</td>\n",
       "      <td>63</td>\n",
       "      <td>1</td>\n",
       "    </tr>\n",
       "    <tr>\n",
       "      <th>2</th>\n",
       "      <td>118</td>\n",
       "      <td>0.08</td>\n",
       "      <td>3.48</td>\n",
       "      <td>32.28</td>\n",
       "      <td>1</td>\n",
       "      <td>52</td>\n",
       "      <td>29.14</td>\n",
       "      <td>3.81</td>\n",
       "      <td>46</td>\n",
       "      <td>0</td>\n",
       "    </tr>\n",
       "    <tr>\n",
       "      <th>3</th>\n",
       "      <td>170</td>\n",
       "      <td>7.50</td>\n",
       "      <td>6.41</td>\n",
       "      <td>38.03</td>\n",
       "      <td>1</td>\n",
       "      <td>51</td>\n",
       "      <td>31.99</td>\n",
       "      <td>24.26</td>\n",
       "      <td>58</td>\n",
       "      <td>1</td>\n",
       "    </tr>\n",
       "    <tr>\n",
       "      <th>4</th>\n",
       "      <td>134</td>\n",
       "      <td>13.60</td>\n",
       "      <td>3.50</td>\n",
       "      <td>27.78</td>\n",
       "      <td>1</td>\n",
       "      <td>60</td>\n",
       "      <td>25.99</td>\n",
       "      <td>57.34</td>\n",
       "      <td>49</td>\n",
       "      <td>1</td>\n",
       "    </tr>\n",
       "    <tr>\n",
       "      <th>...</th>\n",
       "      <td>...</td>\n",
       "      <td>...</td>\n",
       "      <td>...</td>\n",
       "      <td>...</td>\n",
       "      <td>...</td>\n",
       "      <td>...</td>\n",
       "      <td>...</td>\n",
       "      <td>...</td>\n",
       "      <td>...</td>\n",
       "      <td>...</td>\n",
       "    </tr>\n",
       "    <tr>\n",
       "      <th>457</th>\n",
       "      <td>214</td>\n",
       "      <td>0.40</td>\n",
       "      <td>5.98</td>\n",
       "      <td>31.72</td>\n",
       "      <td>0</td>\n",
       "      <td>64</td>\n",
       "      <td>28.45</td>\n",
       "      <td>0.00</td>\n",
       "      <td>58</td>\n",
       "      <td>0</td>\n",
       "    </tr>\n",
       "    <tr>\n",
       "      <th>458</th>\n",
       "      <td>182</td>\n",
       "      <td>4.20</td>\n",
       "      <td>4.41</td>\n",
       "      <td>32.10</td>\n",
       "      <td>0</td>\n",
       "      <td>52</td>\n",
       "      <td>28.61</td>\n",
       "      <td>18.72</td>\n",
       "      <td>52</td>\n",
       "      <td>1</td>\n",
       "    </tr>\n",
       "    <tr>\n",
       "      <th>459</th>\n",
       "      <td>108</td>\n",
       "      <td>3.00</td>\n",
       "      <td>1.59</td>\n",
       "      <td>15.23</td>\n",
       "      <td>0</td>\n",
       "      <td>40</td>\n",
       "      <td>20.09</td>\n",
       "      <td>26.64</td>\n",
       "      <td>55</td>\n",
       "      <td>0</td>\n",
       "    </tr>\n",
       "    <tr>\n",
       "      <th>460</th>\n",
       "      <td>118</td>\n",
       "      <td>5.40</td>\n",
       "      <td>11.61</td>\n",
       "      <td>30.79</td>\n",
       "      <td>0</td>\n",
       "      <td>64</td>\n",
       "      <td>27.35</td>\n",
       "      <td>23.97</td>\n",
       "      <td>40</td>\n",
       "      <td>0</td>\n",
       "    </tr>\n",
       "    <tr>\n",
       "      <th>461</th>\n",
       "      <td>132</td>\n",
       "      <td>0.00</td>\n",
       "      <td>4.82</td>\n",
       "      <td>33.41</td>\n",
       "      <td>1</td>\n",
       "      <td>62</td>\n",
       "      <td>14.70</td>\n",
       "      <td>0.00</td>\n",
       "      <td>46</td>\n",
       "      <td>1</td>\n",
       "    </tr>\n",
       "  </tbody>\n",
       "</table>\n",
       "<p>462 rows × 10 columns</p>\n",
       "</div>"
      ],
      "text/plain": [
       "     sbp  tobacco    ldl  adiposity  famhist  typea  obesity  alcohol  age  \\\n",
       "0    160    12.00   5.73      23.11        1     49    25.30    97.20   52   \n",
       "1    144     0.01   4.41      28.61        0     55    28.87     2.06   63   \n",
       "2    118     0.08   3.48      32.28        1     52    29.14     3.81   46   \n",
       "3    170     7.50   6.41      38.03        1     51    31.99    24.26   58   \n",
       "4    134    13.60   3.50      27.78        1     60    25.99    57.34   49   \n",
       "..   ...      ...    ...        ...      ...    ...      ...      ...  ...   \n",
       "457  214     0.40   5.98      31.72        0     64    28.45     0.00   58   \n",
       "458  182     4.20   4.41      32.10        0     52    28.61    18.72   52   \n",
       "459  108     3.00   1.59      15.23        0     40    20.09    26.64   55   \n",
       "460  118     5.40  11.61      30.79        0     64    27.35    23.97   40   \n",
       "461  132     0.00   4.82      33.41        1     62    14.70     0.00   46   \n",
       "\n",
       "     chd  \n",
       "0      1  \n",
       "1      1  \n",
       "2      0  \n",
       "3      1  \n",
       "4      1  \n",
       "..   ...  \n",
       "457    0  \n",
       "458    1  \n",
       "459    0  \n",
       "460    0  \n",
       "461    1  \n",
       "\n",
       "[462 rows x 10 columns]"
      ]
     },
     "execution_count": 10,
     "metadata": {},
     "output_type": "execute_result"
    }
   ],
   "source": [
    "data"
   ]
  },
  {
   "cell_type": "code",
   "execution_count": 11,
   "id": "2a2ecccb",
   "metadata": {
    "execution": {
     "iopub.execute_input": "2024-03-03T14:06:02.076271Z",
     "iopub.status.busy": "2024-03-03T14:06:02.075389Z",
     "iopub.status.idle": "2024-03-03T14:06:02.080877Z",
     "shell.execute_reply": "2024-03-03T14:06:02.080062Z"
    },
    "papermill": {
     "duration": 0.022232,
     "end_time": "2024-03-03T14:06:02.083017",
     "exception": false,
     "start_time": "2024-03-03T14:06:02.060785",
     "status": "completed"
    },
    "tags": []
   },
   "outputs": [],
   "source": [
    "X=data.copy()\n",
    "y=X.pop('chd')"
   ]
  },
  {
   "cell_type": "code",
   "execution_count": 12,
   "id": "93a05a9b",
   "metadata": {
    "execution": {
     "iopub.execute_input": "2024-03-03T14:06:02.111788Z",
     "iopub.status.busy": "2024-03-03T14:06:02.110770Z",
     "iopub.status.idle": "2024-03-03T14:06:02.131486Z",
     "shell.execute_reply": "2024-03-03T14:06:02.130376Z"
    },
    "papermill": {
     "duration": 0.037996,
     "end_time": "2024-03-03T14:06:02.134020",
     "exception": false,
     "start_time": "2024-03-03T14:06:02.096024",
     "status": "completed"
    },
    "tags": []
   },
   "outputs": [
    {
     "data": {
      "text/html": [
       "<div>\n",
       "<style scoped>\n",
       "    .dataframe tbody tr th:only-of-type {\n",
       "        vertical-align: middle;\n",
       "    }\n",
       "\n",
       "    .dataframe tbody tr th {\n",
       "        vertical-align: top;\n",
       "    }\n",
       "\n",
       "    .dataframe thead th {\n",
       "        text-align: right;\n",
       "    }\n",
       "</style>\n",
       "<table border=\"1\" class=\"dataframe\">\n",
       "  <thead>\n",
       "    <tr style=\"text-align: right;\">\n",
       "      <th></th>\n",
       "      <th>sbp</th>\n",
       "      <th>tobacco</th>\n",
       "      <th>ldl</th>\n",
       "      <th>adiposity</th>\n",
       "      <th>famhist</th>\n",
       "      <th>typea</th>\n",
       "      <th>obesity</th>\n",
       "      <th>alcohol</th>\n",
       "      <th>age</th>\n",
       "    </tr>\n",
       "  </thead>\n",
       "  <tbody>\n",
       "    <tr>\n",
       "      <th>0</th>\n",
       "      <td>160</td>\n",
       "      <td>12.00</td>\n",
       "      <td>5.73</td>\n",
       "      <td>23.11</td>\n",
       "      <td>1</td>\n",
       "      <td>49</td>\n",
       "      <td>25.30</td>\n",
       "      <td>97.20</td>\n",
       "      <td>52</td>\n",
       "    </tr>\n",
       "    <tr>\n",
       "      <th>1</th>\n",
       "      <td>144</td>\n",
       "      <td>0.01</td>\n",
       "      <td>4.41</td>\n",
       "      <td>28.61</td>\n",
       "      <td>0</td>\n",
       "      <td>55</td>\n",
       "      <td>28.87</td>\n",
       "      <td>2.06</td>\n",
       "      <td>63</td>\n",
       "    </tr>\n",
       "    <tr>\n",
       "      <th>2</th>\n",
       "      <td>118</td>\n",
       "      <td>0.08</td>\n",
       "      <td>3.48</td>\n",
       "      <td>32.28</td>\n",
       "      <td>1</td>\n",
       "      <td>52</td>\n",
       "      <td>29.14</td>\n",
       "      <td>3.81</td>\n",
       "      <td>46</td>\n",
       "    </tr>\n",
       "    <tr>\n",
       "      <th>3</th>\n",
       "      <td>170</td>\n",
       "      <td>7.50</td>\n",
       "      <td>6.41</td>\n",
       "      <td>38.03</td>\n",
       "      <td>1</td>\n",
       "      <td>51</td>\n",
       "      <td>31.99</td>\n",
       "      <td>24.26</td>\n",
       "      <td>58</td>\n",
       "    </tr>\n",
       "    <tr>\n",
       "      <th>4</th>\n",
       "      <td>134</td>\n",
       "      <td>13.60</td>\n",
       "      <td>3.50</td>\n",
       "      <td>27.78</td>\n",
       "      <td>1</td>\n",
       "      <td>60</td>\n",
       "      <td>25.99</td>\n",
       "      <td>57.34</td>\n",
       "      <td>49</td>\n",
       "    </tr>\n",
       "    <tr>\n",
       "      <th>...</th>\n",
       "      <td>...</td>\n",
       "      <td>...</td>\n",
       "      <td>...</td>\n",
       "      <td>...</td>\n",
       "      <td>...</td>\n",
       "      <td>...</td>\n",
       "      <td>...</td>\n",
       "      <td>...</td>\n",
       "      <td>...</td>\n",
       "    </tr>\n",
       "    <tr>\n",
       "      <th>457</th>\n",
       "      <td>214</td>\n",
       "      <td>0.40</td>\n",
       "      <td>5.98</td>\n",
       "      <td>31.72</td>\n",
       "      <td>0</td>\n",
       "      <td>64</td>\n",
       "      <td>28.45</td>\n",
       "      <td>0.00</td>\n",
       "      <td>58</td>\n",
       "    </tr>\n",
       "    <tr>\n",
       "      <th>458</th>\n",
       "      <td>182</td>\n",
       "      <td>4.20</td>\n",
       "      <td>4.41</td>\n",
       "      <td>32.10</td>\n",
       "      <td>0</td>\n",
       "      <td>52</td>\n",
       "      <td>28.61</td>\n",
       "      <td>18.72</td>\n",
       "      <td>52</td>\n",
       "    </tr>\n",
       "    <tr>\n",
       "      <th>459</th>\n",
       "      <td>108</td>\n",
       "      <td>3.00</td>\n",
       "      <td>1.59</td>\n",
       "      <td>15.23</td>\n",
       "      <td>0</td>\n",
       "      <td>40</td>\n",
       "      <td>20.09</td>\n",
       "      <td>26.64</td>\n",
       "      <td>55</td>\n",
       "    </tr>\n",
       "    <tr>\n",
       "      <th>460</th>\n",
       "      <td>118</td>\n",
       "      <td>5.40</td>\n",
       "      <td>11.61</td>\n",
       "      <td>30.79</td>\n",
       "      <td>0</td>\n",
       "      <td>64</td>\n",
       "      <td>27.35</td>\n",
       "      <td>23.97</td>\n",
       "      <td>40</td>\n",
       "    </tr>\n",
       "    <tr>\n",
       "      <th>461</th>\n",
       "      <td>132</td>\n",
       "      <td>0.00</td>\n",
       "      <td>4.82</td>\n",
       "      <td>33.41</td>\n",
       "      <td>1</td>\n",
       "      <td>62</td>\n",
       "      <td>14.70</td>\n",
       "      <td>0.00</td>\n",
       "      <td>46</td>\n",
       "    </tr>\n",
       "  </tbody>\n",
       "</table>\n",
       "<p>462 rows × 9 columns</p>\n",
       "</div>"
      ],
      "text/plain": [
       "     sbp  tobacco    ldl  adiposity  famhist  typea  obesity  alcohol  age\n",
       "0    160    12.00   5.73      23.11        1     49    25.30    97.20   52\n",
       "1    144     0.01   4.41      28.61        0     55    28.87     2.06   63\n",
       "2    118     0.08   3.48      32.28        1     52    29.14     3.81   46\n",
       "3    170     7.50   6.41      38.03        1     51    31.99    24.26   58\n",
       "4    134    13.60   3.50      27.78        1     60    25.99    57.34   49\n",
       "..   ...      ...    ...        ...      ...    ...      ...      ...  ...\n",
       "457  214     0.40   5.98      31.72        0     64    28.45     0.00   58\n",
       "458  182     4.20   4.41      32.10        0     52    28.61    18.72   52\n",
       "459  108     3.00   1.59      15.23        0     40    20.09    26.64   55\n",
       "460  118     5.40  11.61      30.79        0     64    27.35    23.97   40\n",
       "461  132     0.00   4.82      33.41        1     62    14.70     0.00   46\n",
       "\n",
       "[462 rows x 9 columns]"
      ]
     },
     "execution_count": 12,
     "metadata": {},
     "output_type": "execute_result"
    }
   ],
   "source": [
    "X"
   ]
  },
  {
   "cell_type": "code",
   "execution_count": 13,
   "id": "86051b40",
   "metadata": {
    "execution": {
     "iopub.execute_input": "2024-03-03T14:06:02.162316Z",
     "iopub.status.busy": "2024-03-03T14:06:02.161950Z",
     "iopub.status.idle": "2024-03-03T14:06:03.445973Z",
     "shell.execute_reply": "2024-03-03T14:06:03.444887Z"
    },
    "papermill": {
     "duration": 1.301028,
     "end_time": "2024-03-03T14:06:03.448417",
     "exception": false,
     "start_time": "2024-03-03T14:06:02.147389",
     "status": "completed"
    },
    "tags": []
   },
   "outputs": [],
   "source": [
    "from sklearn.model_selection import train_test_split\n",
    "\n",
    "X_train,X_test,y_train,y_test = train_test_split(X,y,train_size=0.8)"
   ]
  },
  {
   "cell_type": "code",
   "execution_count": 14,
   "id": "3a8dedf1",
   "metadata": {
    "execution": {
     "iopub.execute_input": "2024-03-03T14:06:03.476948Z",
     "iopub.status.busy": "2024-03-03T14:06:03.476520Z",
     "iopub.status.idle": "2024-03-03T14:06:03.501877Z",
     "shell.execute_reply": "2024-03-03T14:06:03.500758Z"
    },
    "papermill": {
     "duration": 0.042644,
     "end_time": "2024-03-03T14:06:03.504456",
     "exception": false,
     "start_time": "2024-03-03T14:06:03.461812",
     "status": "completed"
    },
    "tags": []
   },
   "outputs": [],
   "source": [
    "from sklearn.preprocessing import StandardScaler, MinMaxScaler\n",
    "\n",
    "scale_columns = [col for col in X.columns if col!='famhist']\n",
    "scaler = StandardScaler()\n",
    "min_max_scaler = MinMaxScaler()\n",
    "\n",
    "X_train[scale_columns] = scaler.fit_transform(X_train[scale_columns])\n",
    "X_test[scale_columns] = scaler.transform(X_test[scale_columns])\n",
    "\n",
    "X_train[scale_columns] = min_max_scaler.fit_transform(X_train[scale_columns])\n",
    "X_test[scale_columns] = min_max_scaler.transform(X_test[scale_columns])"
   ]
  },
  {
   "cell_type": "markdown",
   "id": "e1537c3b",
   "metadata": {
    "papermill": {
     "duration": 0.012906,
     "end_time": "2024-03-03T14:06:03.530665",
     "exception": false,
     "start_time": "2024-03-03T14:06:03.517759",
     "status": "completed"
    },
    "tags": []
   },
   "source": [
    "Logistic Regression Model:"
   ]
  },
  {
   "cell_type": "code",
   "execution_count": 15,
   "id": "488eb745",
   "metadata": {
    "execution": {
     "iopub.execute_input": "2024-03-03T14:06:03.558969Z",
     "iopub.status.busy": "2024-03-03T14:06:03.558546Z",
     "iopub.status.idle": "2024-03-03T14:06:03.676346Z",
     "shell.execute_reply": "2024-03-03T14:06:03.675550Z"
    },
    "papermill": {
     "duration": 0.135024,
     "end_time": "2024-03-03T14:06:03.678950",
     "exception": false,
     "start_time": "2024-03-03T14:06:03.543926",
     "status": "completed"
    },
    "tags": []
   },
   "outputs": [
    {
     "name": "stdout",
     "output_type": "stream",
     "text": [
      "accuracy score :  0.7634408602150538\n",
      "precision_score :  0.45714285714285713\n",
      "recall score :  0.8421052631578947\n",
      "f1_score :  0.5925925925925926\n",
      "roc_auc_score :  0.792674253200569\n"
     ]
    }
   ],
   "source": [
    "from sklearn.linear_model import LogisticRegression\n",
    "from sklearn.metrics import f1_score,roc_auc_score,accuracy_score,precision_score,recall_score\n",
    "\n",
    "LG_model = LogisticRegression(max_iter=300)\n",
    "LG_model.fit(X_train,y_train)\n",
    "y_pred = LG_model.predict(X_test)\n",
    "print('accuracy score : ',accuracy_score(y_pred,y_test))\n",
    "print('precision_score : ',precision_score(y_pred,y_test))\n",
    "print('recall score : ',recall_score(y_pred,y_test))\n",
    "print('f1_score : ',f1_score(y_pred,y_test))\n",
    "print('roc_auc_score : ',roc_auc_score(y_pred,y_test))"
   ]
  },
  {
   "cell_type": "markdown",
   "id": "f0011d24",
   "metadata": {
    "papermill": {
     "duration": 0.013361,
     "end_time": "2024-03-03T14:06:03.707062",
     "exception": false,
     "start_time": "2024-03-03T14:06:03.693701",
     "status": "completed"
    },
    "tags": []
   },
   "source": [
    "Random Forest Model:"
   ]
  },
  {
   "cell_type": "code",
   "execution_count": 16,
   "id": "f322648e",
   "metadata": {
    "execution": {
     "iopub.execute_input": "2024-03-03T14:06:03.736237Z",
     "iopub.status.busy": "2024-03-03T14:06:03.735825Z",
     "iopub.status.idle": "2024-03-03T14:06:04.222042Z",
     "shell.execute_reply": "2024-03-03T14:06:04.220773Z"
    },
    "papermill": {
     "duration": 0.503786,
     "end_time": "2024-03-03T14:06:04.224383",
     "exception": false,
     "start_time": "2024-03-03T14:06:03.720597",
     "status": "completed"
    },
    "tags": []
   },
   "outputs": [
    {
     "name": "stdout",
     "output_type": "stream",
     "text": [
      "accuracy score :  0.6774193548387096\n",
      "precision_score :  0.45714285714285713\n",
      "recall score :  0.5925925925925926\n",
      "f1_score :  0.5161290322580645\n",
      "roc_auc_score :  0.6523569023569025\n"
     ]
    }
   ],
   "source": [
    "from sklearn.ensemble import RandomForestClassifier\n",
    "\n",
    "rf_model = RandomForestClassifier()\n",
    "rf_model.fit(X_train,y_train)\n",
    "y_pred = rf_model.predict(X_test)\n",
    "print('accuracy score : ',accuracy_score(y_pred,y_test))\n",
    "print('precision_score : ',precision_score(y_pred,y_test))\n",
    "print('recall score : ',recall_score(y_pred,y_test))\n",
    "print('f1_score : ',f1_score(y_pred,y_test))\n",
    "print('roc_auc_score : ',roc_auc_score(y_pred,y_test))"
   ]
  },
  {
   "cell_type": "markdown",
   "id": "53a16b6b",
   "metadata": {
    "papermill": {
     "duration": 0.01314,
     "end_time": "2024-03-03T14:06:04.251191",
     "exception": false,
     "start_time": "2024-03-03T14:06:04.238051",
     "status": "completed"
    },
    "tags": []
   },
   "source": [
    "Xgboost Classifier Model:"
   ]
  },
  {
   "cell_type": "code",
   "execution_count": 17,
   "id": "0803fe96",
   "metadata": {
    "execution": {
     "iopub.execute_input": "2024-03-03T14:06:04.285399Z",
     "iopub.status.busy": "2024-03-03T14:06:04.284470Z",
     "iopub.status.idle": "2024-03-03T14:06:04.722005Z",
     "shell.execute_reply": "2024-03-03T14:06:04.720646Z"
    },
    "papermill": {
     "duration": 0.459293,
     "end_time": "2024-03-03T14:06:04.726069",
     "exception": false,
     "start_time": "2024-03-03T14:06:04.266776",
     "status": "completed"
    },
    "tags": []
   },
   "outputs": [
    {
     "name": "stdout",
     "output_type": "stream",
     "text": [
      "accuracy score :  0.6666666666666666\n",
      "precision_score :  0.42857142857142855\n",
      "recall score :  0.5769230769230769\n",
      "f1_score :  0.4918032786885245\n",
      "roc_auc_score :  0.6392078071182549\n"
     ]
    }
   ],
   "source": [
    "from xgboost import XGBClassifier\n",
    "\n",
    "xgb_model = XGBClassifier()\n",
    "xgb_model.fit(X_train,y_train)\n",
    "y_pred = xgb_model.predict(X_test)\n",
    "print('accuracy score : ',accuracy_score(y_pred,y_test))\n",
    "print('precision_score : ',precision_score(y_pred,y_test))\n",
    "print('recall score : ',recall_score(y_pred,y_test))\n",
    "print('f1_score : ',f1_score(y_pred,y_test))\n",
    "print('roc_auc_score : ',roc_auc_score(y_pred,y_test))"
   ]
  },
  {
   "cell_type": "markdown",
   "id": "a47be0be",
   "metadata": {
    "papermill": {
     "duration": 0.013546,
     "end_time": "2024-03-03T14:06:04.757677",
     "exception": false,
     "start_time": "2024-03-03T14:06:04.744131",
     "status": "completed"
    },
    "tags": []
   },
   "source": [
    "Support Vector Classifier:"
   ]
  },
  {
   "cell_type": "code",
   "execution_count": 18,
   "id": "db8472c2",
   "metadata": {
    "execution": {
     "iopub.execute_input": "2024-03-03T14:06:04.788776Z",
     "iopub.status.busy": "2024-03-03T14:06:04.788369Z",
     "iopub.status.idle": "2024-03-03T14:06:04.819214Z",
     "shell.execute_reply": "2024-03-03T14:06:04.818038Z"
    },
    "papermill": {
     "duration": 0.050413,
     "end_time": "2024-03-03T14:06:04.821789",
     "exception": false,
     "start_time": "2024-03-03T14:06:04.771376",
     "status": "completed"
    },
    "tags": []
   },
   "outputs": [
    {
     "name": "stdout",
     "output_type": "stream",
     "text": [
      "accuracy score :  0.7096774193548387\n",
      "precision_score :  0.4\n",
      "recall score :  0.7\n",
      "f1_score :  0.509090909090909\n",
      "roc_auc_score :  0.7061643835616438\n"
     ]
    }
   ],
   "source": [
    "from sklearn.svm import SVC\n",
    "\n",
    "svc_model = SVC()\n",
    "svc_model.fit(X_train,y_train)\n",
    "y_pred = svc_model.predict(X_test)\n",
    "print('accuracy score : ',accuracy_score(y_pred,y_test))\n",
    "print('precision_score : ',precision_score(y_pred,y_test))\n",
    "print('recall score : ',recall_score(y_pred,y_test))\n",
    "print('f1_score : ',f1_score(y_pred,y_test))\n",
    "print('roc_auc_score : ',roc_auc_score(y_pred,y_test))"
   ]
  },
  {
   "cell_type": "markdown",
   "id": "396a27eb",
   "metadata": {
    "papermill": {
     "duration": 0.013586,
     "end_time": "2024-03-03T14:06:04.849036",
     "exception": false,
     "start_time": "2024-03-03T14:06:04.835450",
     "status": "completed"
    },
    "tags": []
   },
   "source": [
    "Neural Network:"
   ]
  },
  {
   "cell_type": "code",
   "execution_count": 19,
   "id": "7bff321e",
   "metadata": {
    "execution": {
     "iopub.execute_input": "2024-03-03T14:06:04.879332Z",
     "iopub.status.busy": "2024-03-03T14:06:04.878074Z",
     "iopub.status.idle": "2024-03-03T14:06:17.979358Z",
     "shell.execute_reply": "2024-03-03T14:06:17.978459Z"
    },
    "papermill": {
     "duration": 13.118984,
     "end_time": "2024-03-03T14:06:17.981757",
     "exception": false,
     "start_time": "2024-03-03T14:06:04.862773",
     "status": "completed"
    },
    "tags": []
   },
   "outputs": [
    {
     "name": "stderr",
     "output_type": "stream",
     "text": [
      "2024-03-03 14:06:06.948822: E external/local_xla/xla/stream_executor/cuda/cuda_dnn.cc:9261] Unable to register cuDNN factory: Attempting to register factory for plugin cuDNN when one has already been registered\n",
      "2024-03-03 14:06:06.948950: E external/local_xla/xla/stream_executor/cuda/cuda_fft.cc:607] Unable to register cuFFT factory: Attempting to register factory for plugin cuFFT when one has already been registered\n",
      "2024-03-03 14:06:07.103754: E external/local_xla/xla/stream_executor/cuda/cuda_blas.cc:1515] Unable to register cuBLAS factory: Attempting to register factory for plugin cuBLAS when one has already been registered\n",
      "/opt/conda/lib/python3.10/site-packages/keras/src/layers/core/dense.py:85: UserWarning: Do not pass an `input_shape`/`input_dim` argument to a layer. When using Sequential models, prefer using an `Input(shape)` object as the first layer in the model instead.\n",
      "  super().__init__(activity_regularizer=activity_regularizer, **kwargs)\n"
     ]
    }
   ],
   "source": [
    "from tensorflow import keras\n",
    "from tensorflow.keras import layers\n",
    "\n",
    "model = keras.Sequential([\n",
    "    layers.Dense(units=12, activation='relu',input_shape=[9]),\n",
    "    layers.Dense(units=12,activation='relu'),\n",
    "    layers.Dense(units=12,activation='relu'),\n",
    "    layers.Dense(units=1,activation='sigmoid'),\n",
    "])"
   ]
  },
  {
   "cell_type": "code",
   "execution_count": 20,
   "id": "5b460b5c",
   "metadata": {
    "execution": {
     "iopub.execute_input": "2024-03-03T14:06:18.012505Z",
     "iopub.status.busy": "2024-03-03T14:06:18.011366Z",
     "iopub.status.idle": "2024-03-03T14:06:18.027087Z",
     "shell.execute_reply": "2024-03-03T14:06:18.026131Z"
    },
    "papermill": {
     "duration": 0.03368,
     "end_time": "2024-03-03T14:06:18.029495",
     "exception": false,
     "start_time": "2024-03-03T14:06:17.995815",
     "status": "completed"
    },
    "tags": []
   },
   "outputs": [],
   "source": [
    "model.compile(\n",
    "    optimizer='adam',\n",
    "    loss = 'binary_crossentropy',\n",
    "    metrics = ['binary_accuracy'],\n",
    ")"
   ]
  },
  {
   "cell_type": "code",
   "execution_count": 21,
   "id": "1b8f74a6",
   "metadata": {
    "execution": {
     "iopub.execute_input": "2024-03-03T14:06:18.059493Z",
     "iopub.status.busy": "2024-03-03T14:06:18.058758Z",
     "iopub.status.idle": "2024-03-03T14:06:18.063793Z",
     "shell.execute_reply": "2024-03-03T14:06:18.062702Z"
    },
    "papermill": {
     "duration": 0.022519,
     "end_time": "2024-03-03T14:06:18.065989",
     "exception": false,
     "start_time": "2024-03-03T14:06:18.043470",
     "status": "completed"
    },
    "tags": []
   },
   "outputs": [],
   "source": [
    "early_stopping = keras.callbacks.EarlyStopping(\n",
    "    patience = 10,\n",
    "    min_delta = 0.001,\n",
    "    restore_best_weights = True,\n",
    ")"
   ]
  },
  {
   "cell_type": "code",
   "execution_count": 22,
   "id": "3dc82975",
   "metadata": {
    "execution": {
     "iopub.execute_input": "2024-03-03T14:06:18.095584Z",
     "iopub.status.busy": "2024-03-03T14:06:18.094955Z",
     "iopub.status.idle": "2024-03-03T14:06:32.994555Z",
     "shell.execute_reply": "2024-03-03T14:06:32.993309Z"
    },
    "papermill": {
     "duration": 14.917335,
     "end_time": "2024-03-03T14:06:32.997142",
     "exception": false,
     "start_time": "2024-03-03T14:06:18.079807",
     "status": "completed"
    },
    "tags": []
   },
   "outputs": [
    {
     "name": "stdout",
     "output_type": "stream",
     "text": [
      "Best Validation Loss: 0.4689\n",
      "Best Validation Accuracy: 0.7957\n"
     ]
    }
   ],
   "source": [
    "history = model.fit(X_train,y_train,\n",
    "                   validation_data = (X_test,y_test),\n",
    "                   batch_size = 512,\n",
    "                    epochs=1000,\n",
    "                    callbacks = [early_stopping],\n",
    "                    verbose=0,\n",
    "                   )\n",
    "history_df = pd.DataFrame(history.history)\n",
    "print((\"Best Validation Loss: {:0.4f}\" +\\\n",
    "      \"\\nBest Validation Accuracy: {:0.4f}\")\\\n",
    "      .format(history_df['val_loss'].min(), \n",
    "              history_df['val_binary_accuracy'].max()))"
   ]
  },
  {
   "cell_type": "code",
   "execution_count": 23,
   "id": "6ee2568e",
   "metadata": {
    "execution": {
     "iopub.execute_input": "2024-03-03T14:06:33.027786Z",
     "iopub.status.busy": "2024-03-03T14:06:33.027012Z",
     "iopub.status.idle": "2024-03-03T14:06:33.609820Z",
     "shell.execute_reply": "2024-03-03T14:06:33.608797Z"
    },
    "papermill": {
     "duration": 0.6005,
     "end_time": "2024-03-03T14:06:33.612216",
     "exception": false,
     "start_time": "2024-03-03T14:06:33.011716",
     "status": "completed"
    },
    "tags": []
   },
   "outputs": [
    {
     "data": {
      "text/plain": [
       "<Axes: >"
      ]
     },
     "execution_count": 23,
     "metadata": {},
     "output_type": "execute_result"
    },
    {
     "data": {
      "image/png": "[encoded data removed]",
      "text/plain": [
       "<Figure size 640x480 with 1 Axes>"
      ]
     },
     "metadata": {},
     "output_type": "display_data"
    },
    {
     "data": {
      "image/png": "[encoded data removed]",
      "text/plain": [
       "<Figure size 640x480 with 1 Axes>"
      ]
     },
     "metadata": {},
     "output_type": "display_data"
    }
   ],
   "source": [
    "history_df.loc[:,['loss','val_loss']].plot()\n",
    "history_df.loc[:,['binary_accuracy','val_binary_accuracy']].plot()"
   ]
  }
 ],
 "metadata": {
  "kaggle": {
   "accelerator": "none",
   "dataSources": [
    {
     "datasetId": 4506215,
     "sourceId": 7715834,
     "sourceType": "datasetVersion"
    }
   ],
   "dockerImageVersionId": 30664,
   "isGpuEnabled": false,
   "isInternetEnabled": true,
   "language": "python",
   "sourceType": "notebook"
  },
  "kernelspec": {
   "display_name": "Python 3",
   "language": "python",
   "name": "python3"
  },
  "language_info": {
   "codemirror_mode": {
    "name": "ipython",
    "version": 3
   },
   "file_extension": ".py",
   "mimetype": "text/x-python",
   "name": "python",
   "nbconvert_exporter": "python",
   "pygments_lexer": "ipython3",
   "version": "3.10.13"
  },
  "papermill": {
   "default_parameters": {},
   "duration": 42.068424,
   "end_time": "2024-03-03T14:06:36.191642",
   "environment_variables": {},
   "exception": null,
   "input_path": "__notebook__.ipynb",
   "output_path": "__notebook__.ipynb",
   "parameters": {},
   "start_time": "2024-03-03T14:05:54.123218",
   "version": "2.5.0"
  }
 },
 "nbformat": 4,
 "nbformat_minor": 5
}
